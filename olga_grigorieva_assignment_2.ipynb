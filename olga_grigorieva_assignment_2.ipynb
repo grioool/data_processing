{
 "cells": [
  {
   "cell_type": "markdown",
   "source": [
    "# Processing of Travel StackExchange Data\n",
    "\n",
    "## Introduction\n",
    "This lab work performs data processing on Travel StackExchange data to compare Python (Pandas) and SQL approaches.\n",
    "\n",
    "\n",
    "## Data Preparation\n",
    "### Import Libraries and Data"
   ],
   "metadata": {
    "collapsed": false
   },
   "id": "b9ecb8d82cfb3971"
  },
  {
   "cell_type": "code",
   "execution_count": 42,
   "outputs": [],
   "source": [
    "import os\n",
    "import sqlite3\n",
    "import tempfile\n",
    "\n",
    "from olga_grigorieva_assignment_2 import *"
   ],
   "metadata": {
    "collapsed": false,
    "ExecuteTime": {
     "end_time": "2023-12-30T13:06:06.992578Z",
     "start_time": "2023-12-30T13:06:06.179534Z"
    }
   },
   "id": "fae4d1d706692763"
  },
  {
   "cell_type": "markdown",
   "source": [
    "### Load Data into DataFrame and SQL Database\n",
    "# Load data into Pandas DataFrames"
   ],
   "metadata": {
    "collapsed": false
   },
   "id": "b6c5904a6b4d5aeb"
  },
  {
   "cell_type": "code",
   "execution_count": 43,
   "outputs": [],
   "source": [
    "Posts = pd.read_csv(\"travel_stackexchange_com/Posts.csv\")\n",
    "Users = pd.read_csv(\"travel_stackexchange_com/Users.csv\")\n",
    "Comments = pd.read_csv(\"travel_stackexchange_com/Comments.csv\")\n",
    "PostLinks = pd.read_csv(\"travel_stackexchange_com/PostLinks.csv\")"
   ],
   "metadata": {
    "collapsed": false,
    "ExecuteTime": {
     "end_time": "2023-12-30T13:06:10.651754Z",
     "start_time": "2023-12-30T13:06:06.189760Z"
    }
   },
   "id": "48a072cd86c47287"
  },
  {
   "cell_type": "markdown",
   "source": [
    "# Initialize SQL database and load data into it"
   ],
   "metadata": {
    "collapsed": false
   },
   "id": "7e6efc11e353755a"
  },
  {
   "cell_type": "code",
   "execution_count": 44,
   "outputs": [
    {
     "data": {
      "text/plain": "29019"
     },
     "execution_count": 44,
     "metadata": {},
     "output_type": "execute_result"
    }
   ],
   "source": [
    "baza = os.path.join(tempfile.mkdtemp(), 'example.db')\n",
    "conn = sqlite3.connect(baza)\n",
    "\n",
    "Posts.to_sql(\"Posts\", conn)\n",
    "Users.to_sql(\"Users\", conn)\n",
    "Comments.to_sql(\"Comments\", conn)\n",
    "PostLinks.to_sql(\"PostLinks\", conn)"
   ],
   "metadata": {
    "collapsed": false,
    "ExecuteTime": {
     "end_time": "2023-12-30T13:06:13.836670Z",
     "start_time": "2023-12-30T13:06:10.639670Z"
    }
   },
   "id": "6a28a08bfb474c03"
  },
  {
   "cell_type": "markdown",
   "source": [
    "# Select data from SQL database using SQL query"
   ],
   "metadata": {
    "collapsed": false
   },
   "id": "665c8f22899ad431"
  },
  {
   "cell_type": "code",
   "execution_count": 45,
   "outputs": [],
   "source": [
    "def solution_1_sql(conn):\n",
    "    query = \"\"\"\n",
    "        SELECT Location, COUNT(*) AS Count \n",
    "        FROM (\n",
    "            SELECT Posts.OwnerUserId, Users.Id, Users.Location \n",
    "            FROM Users\n",
    "            JOIN Posts ON Users.Id = Posts.OwnerUserId\n",
    "        )\n",
    "        WHERE Location NOT IN ('') \n",
    "        GROUP BY Location\n",
    "        ORDER BY Count DESC\n",
    "        LIMIT 10\n",
    "    \"\"\"\n",
    "    return pd.read_sql_query(query, conn)\n",
    "\n",
    "\n",
    "def solution_2_sql(conn):\n",
    "    query = \"\"\"\n",
    "        SELECT Posts.Title, RelatedTab.NumLinks \n",
    "        FROM (\n",
    "            SELECT RelatedPostId AS PostId, COUNT(*) AS NumLinks \n",
    "            FROM PostLinks\n",
    "            GROUP BY RelatedPostId\n",
    "            ) AS RelatedTab\n",
    "        JOIN Posts ON RelatedTab.PostId=Posts.Id \n",
    "        WHERE Posts.PostTypeId=1\n",
    "        ORDER BY NumLinks DESC\n",
    "    \"\"\"\n",
    "    return pd.read_sql_query(query, conn)\n",
    "\n",
    "\n",
    "def solution_3_sql(conn):\n",
    "    query = \"\"\"\n",
    "        SELECT Title, CommentCount, ViewCount, CommentsTotalScore, DisplayName, Reputation, Location \n",
    "        FROM (\n",
    "                SELECT Posts.OwnerUserId, Posts.Title, Posts.CommentCount, Posts.ViewCount, CmtTotScr.CommentsTotalScore\n",
    "                FROM (\n",
    "                        SELECT PostId, SUM(Score) AS CommentsTotalScore \n",
    "                        FROM Comments\n",
    "                        GROUP BY PostId\n",
    "                    ) AS CmtTotScr\n",
    "                JOIN Posts ON Posts.Id = CmtTotScr.PostId \n",
    "                WHERE Posts.PostTypeId=1\n",
    "            ) AS PostsBestComments\n",
    "        JOIN Users ON PostsBestComments.OwnerUserId = Users.Id \n",
    "        ORDER BY CommentsTotalScore DESC\n",
    "        LIMIT 10\n",
    "    \"\"\"\n",
    "    return pd.read_sql_query(query, conn)\n",
    "\n",
    "\n",
    "def solution_4_sql(conn):\n",
    "    query = \"\"\"\n",
    "        SELECT DisplayName, QuestionsNumber, AnswersNumber, Location, Reputation, UpVotes, DownVotes \n",
    "        FROM (\n",
    "            SELECT * \n",
    "            FROM (\n",
    "                SELECT COUNT(*) as AnswersNumber, OwnerUserId \n",
    "                FROM Posts\n",
    "                WHERE PostTypeId = 2\n",
    "                GROUP BY OwnerUserId\n",
    "                ) AS Answers \n",
    "            JOIN\n",
    "                (\n",
    "                    SELECT COUNT(*) as QuestionsNumber, OwnerUserId \n",
    "                    FROM Posts\n",
    "                    WHERE PostTypeId = 1\n",
    "                    GROUP BY OwnerUserId\n",
    "                ) AS Questions\n",
    "            ON Answers.OwnerUserId = Questions.OwnerUserId \n",
    "            WHERE AnswersNumber > QuestionsNumber\n",
    "            ORDER BY AnswersNumber DESC\n",
    "            LIMIT 5\n",
    "            ) AS PostsCounts \n",
    "        JOIN Users\n",
    "        ON PostsCounts.OwnerUserId = Users.Id\n",
    "    \"\"\"\n",
    "    return pd.read_sql_query(query, conn)\n",
    "\n",
    "\n",
    "def solution_5_sql(conn):\n",
    "    query = \"\"\"\n",
    "        SELECT Questions.Id,\n",
    "            Questions.Title,\n",
    "            BestAnswers.MaxScore,\n",
    "            Posts.Score AS AcceptedScore, \n",
    "            BestAnswers.MaxScore-Posts.Score AS Difference\n",
    "        FROM (\n",
    "            SELECT Id, ParentId, MAX(Score) AS MaxScore \n",
    "            FROM Posts\n",
    "            WHERE PostTypeId==2\n",
    "            GROUP BY ParentId\n",
    "            ) AS BestAnswers\n",
    "        JOIN (\n",
    "            SELECT * FROM Posts\n",
    "            WHERE PostTypeId==1 \n",
    "            ) AS Questions\n",
    "        ON Questions.Id=BestAnswers.ParentId\n",
    "        JOIN Posts ON Questions.AcceptedAnswerId=Posts.Id WHERE Difference>50\n",
    "        ORDER BY Difference DESC\n",
    "    \"\"\"\n",
    "    return pd.read_sql_query(query, conn)"
   ],
   "metadata": {
    "collapsed": false,
    "ExecuteTime": {
     "end_time": "2023-12-30T13:06:13.858147Z",
     "start_time": "2023-12-30T13:06:13.841404Z"
    }
   },
   "id": "9640d0d267dc564f"
  },
  {
   "cell_type": "markdown",
   "source": [
    "# Function for result comparing"
   ],
   "metadata": {
    "collapsed": false
   },
   "id": "a90ef5456dee78f7"
  },
  {
   "cell_type": "code",
   "execution_count": 46,
   "outputs": [],
   "source": [
    "def compare_results(task_name, pandas_result, sql_result):\n",
    "    comparison = pandas_result.equals(sql_result)\n",
    "    print(f\"Task {task_name} Comparison: {comparison}\")"
   ],
   "metadata": {
    "collapsed": false,
    "ExecuteTime": {
     "end_time": "2023-12-30T13:06:14.088474Z",
     "start_time": "2023-12-30T13:06:13.851459Z"
    }
   },
   "id": "338a8afeefe0fe40"
  },
  {
   "cell_type": "markdown",
   "source": [
    "## Task 1: Analyzing User Locations\n",
    "### Task Summary\n",
    "Determine the best user locations based on post count.\n",
    "\n",
    "### Pandas Implementation"
   ],
   "metadata": {
    "collapsed": false
   },
   "id": "6383cbc554ed178c"
  },
  {
   "cell_type": "code",
   "execution_count": 47,
   "outputs": [],
   "source": [
    "pandas_result_1 = solution_1(Posts, Users)"
   ],
   "metadata": {
    "collapsed": false,
    "ExecuteTime": {
     "end_time": "2023-12-30T13:06:14.120652Z",
     "start_time": "2023-12-30T13:06:13.855707Z"
    }
   },
   "id": "a42bd74e92564e2"
  },
  {
   "cell_type": "markdown",
   "source": [
    "### SQL Implementation"
   ],
   "metadata": {
    "collapsed": false
   },
   "id": "26dc5909e8418a58"
  },
  {
   "cell_type": "code",
   "execution_count": 48,
   "outputs": [],
   "source": [
    "sql_result_1 = solution_1_sql(conn)"
   ],
   "metadata": {
    "collapsed": false,
    "ExecuteTime": {
     "end_time": "2023-12-30T13:06:14.245560Z",
     "start_time": "2023-12-30T13:06:13.919019Z"
    }
   },
   "id": "e1b7cf3647a45494"
  },
  {
   "cell_type": "markdown",
   "source": [
    "### Comparison"
   ],
   "metadata": {
    "collapsed": false
   },
   "id": "1907f61a7118a054"
  },
  {
   "cell_type": "code",
   "execution_count": 49,
   "outputs": [
    {
     "name": "stdout",
     "output_type": "stream",
     "text": [
      "Task 1 Report:\n",
      "Pandas Solution:\n",
      "                        Location  Count\n",
      "0      Christchurch, New Zealand   2795\n",
      "1                   New York, NY   1872\n",
      "2         London, United Kingdom   1711\n",
      "3                             UK   1707\n",
      "4  Sunshine Coast QLD, Australia   1558\n",
      "\n",
      "SQL Solution:\n",
      "                        Location  Count\n",
      "0      Christchurch, New Zealand   2795\n",
      "1                   New York, NY   1872\n",
      "2         London, United Kingdom   1711\n",
      "3                             UK   1707\n",
      "4  Sunshine Coast QLD, Australia   1558\n",
      "Task 1 Comparison: True\n"
     ]
    }
   ],
   "source": [
    "print(\"Task 1 Report:\")\n",
    "print(\"Pandas Solution:\")\n",
    "print(pandas_result_1.head())\n",
    "print(\"\\nSQL Solution:\")\n",
    "print(sql_result_1.head())\n",
    "compare_results(1, pandas_result_1, sql_result_1)"
   ],
   "metadata": {
    "collapsed": false,
    "ExecuteTime": {
     "end_time": "2023-12-30T13:06:14.247962Z",
     "start_time": "2023-12-30T13:06:14.210927Z"
    }
   },
   "id": "cd4111cf0943f5c0"
  },
  {
   "cell_type": "markdown",
   "source": [
    "## Task 2: Most Linked Posts\n",
    "### Task Summary\n",
    "Identify the most referenced posts in the forum.\n",
    "\n",
    "### Pandas Implementation"
   ],
   "metadata": {
    "collapsed": false
   },
   "id": "e19fe71b2b34a8f6"
  },
  {
   "cell_type": "code",
   "execution_count": 50,
   "outputs": [],
   "source": [
    "pandas_result_2 = solution_2(Posts, PostLinks)"
   ],
   "metadata": {
    "collapsed": false,
    "ExecuteTime": {
     "end_time": "2023-12-30T13:06:14.266263Z",
     "start_time": "2023-12-30T13:06:14.226577Z"
    }
   },
   "id": "38426fca2734a8d1"
  },
  {
   "cell_type": "markdown",
   "source": [
    "### SQL Implementation"
   ],
   "metadata": {
    "collapsed": false
   },
   "id": "8a222b0f79106294"
  },
  {
   "cell_type": "code",
   "execution_count": 51,
   "outputs": [],
   "source": [
    "sql_result_2 = solution_2_sql(conn)"
   ],
   "metadata": {
    "collapsed": false,
    "ExecuteTime": {
     "end_time": "2023-12-30T13:06:14.395653Z",
     "start_time": "2023-12-30T13:06:14.255267Z"
    }
   },
   "id": "76fd09a7305ce51b"
  },
  {
   "cell_type": "markdown",
   "source": [
    "### Comparison"
   ],
   "metadata": {
    "collapsed": false
   },
   "id": "bed57e50ec45e55d"
  },
  {
   "cell_type": "code",
   "execution_count": 52,
   "outputs": [
    {
     "name": "stdout",
     "output_type": "stream",
     "text": [
      "Task 2 Report:\n",
      "Pandas Solution:\n",
      "                                               Title  NumLinks\n",
      "0  Is there a way to find out if I need a transit...      1157\n",
      "1  Do I need a visa to transit (or layover) in th...      1012\n",
      "2  Should I submit bank statements when applying ...       669\n",
      "3  UK visa refusal on V 4.2 a + c (and sometimes ...       523\n",
      "4  Should my first trip be to the country which i...       461\n",
      "\n",
      "SQL Solution:\n",
      "                                               Title  NumLinks\n",
      "0  Is there a way to find out if I need a transit...      1157\n",
      "1  Do I need a visa to transit (or layover) in th...      1012\n",
      "2  Should I submit bank statements when applying ...       669\n",
      "3  UK visa refusal on V 4.2 a + c (and sometimes ...       523\n",
      "4  Should my first trip be to the country which i...       461\n",
      "Task 2 Comparison: True\n"
     ]
    }
   ],
   "source": [
    "print(\"Task 2 Report:\")\n",
    "print(\"Pandas Solution:\")\n",
    "print(pandas_result_2.head())\n",
    "print(\"\\nSQL Solution:\")\n",
    "print(sql_result_2.head())\n",
    "compare_results(2, pandas_result_2, sql_result_2)"
   ],
   "metadata": {
    "collapsed": false,
    "ExecuteTime": {
     "end_time": "2023-12-30T13:06:14.412706Z",
     "start_time": "2023-12-30T13:06:14.408896Z"
    }
   },
   "id": "dbf1f12516d807ac"
  },
  {
   "cell_type": "markdown",
   "source": [
    "## Task 3: The best Posts by Comment Engagement\n",
    "### Task Summary\n",
    "Evaluate posts with the highest total score from comments, along with associated user details.\n",
    "\n",
    "### Pandas Implementation"
   ],
   "metadata": {
    "collapsed": false
   },
   "id": "307c7d626cddd345"
  },
  {
   "cell_type": "code",
   "execution_count": 53,
   "outputs": [],
   "source": [
    "pandas_result_3 = solution_3(Posts, Users, Comments)"
   ],
   "metadata": {
    "collapsed": false,
    "ExecuteTime": {
     "end_time": "2023-12-30T13:06:14.523646Z",
     "start_time": "2023-12-30T13:06:14.415702Z"
    }
   },
   "id": "7ba6e9f28ae68c3c"
  },
  {
   "cell_type": "markdown",
   "source": [
    "### SQL Implementation"
   ],
   "metadata": {
    "collapsed": false
   },
   "id": "da306cc6e918d15f"
  },
  {
   "cell_type": "code",
   "execution_count": 54,
   "outputs": [],
   "source": [
    "sql_result_3 = solution_3_sql(conn)"
   ],
   "metadata": {
    "collapsed": false,
    "ExecuteTime": {
     "end_time": "2023-12-30T13:06:14.914848Z",
     "start_time": "2023-12-30T13:06:14.523439Z"
    }
   },
   "id": "ffb3aefd3e3391ed"
  },
  {
   "cell_type": "markdown",
   "source": [
    "### Comparison"
   ],
   "metadata": {
    "collapsed": false
   },
   "id": "351d424fe41d82a1"
  },
  {
   "cell_type": "code",
   "execution_count": 55,
   "outputs": [
    {
     "name": "stdout",
     "output_type": "stream",
     "text": [
      "Task 3 Report:\n",
      "Pandas Solution:\n",
      "                                               Title  CommentCount  ViewCount  \\\n",
      "0  Boss is asking for passport, but it has a stam...            24    61309.0   \n",
      "1  How to intentionally get denied entry to the U...            37    72856.0   \n",
      "2  Can I wear a bulletproof vest while traveling ...            26    23467.0   \n",
      "3  OK we're all adults here, so really, how on ea...            29   113001.0   \n",
      "4  Being separated from one's young children on a...            36    14308.0   \n",
      "\n",
      "   CommentsTotalScore  DisplayName  Reputation                       Location  \n",
      "0                 630        Megha        1679                            NaN  \n",
      "1                 618    user11743        1997                            NaN  \n",
      "2                 403       Ulkoma        9190         London, United Kingdom  \n",
      "3                 388  hippietrail       75994  Sunshine Coast QLD, Australia  \n",
      "4                 358  Emma-louise         611                            NaN  \n",
      "\n",
      "SQL Solution:\n",
      "                                               Title  CommentCount  ViewCount  \\\n",
      "0  Boss is asking for passport, but it has a stam...            24    61309.0   \n",
      "1  How to intentionally get denied entry to the U...            37    72856.0   \n",
      "2  Can I wear a bulletproof vest while traveling ...            26    23467.0   \n",
      "3  OK we're all adults here, so really, how on ea...            29   113001.0   \n",
      "4  Being separated from one's young children on a...            36    14308.0   \n",
      "\n",
      "   CommentsTotalScore  DisplayName  Reputation                       Location  \n",
      "0                 630        Megha        1679                           None  \n",
      "1                 618    user11743        1997                           None  \n",
      "2                 403       Ulkoma        9190         London, United Kingdom  \n",
      "3                 388  hippietrail       75994  Sunshine Coast QLD, Australia  \n",
      "4                 358  Emma-louise         611                           None  \n",
      "Task 3 Comparison: True\n"
     ]
    }
   ],
   "source": [
    "print(\"Task 3 Report:\")\n",
    "print(\"Pandas Solution:\")\n",
    "print(pandas_result_3.head())\n",
    "print(\"\\nSQL Solution:\")\n",
    "print(sql_result_3.head())\n",
    "compare_results(3, pandas_result_3, sql_result_3)"
   ],
   "metadata": {
    "collapsed": false,
    "ExecuteTime": {
     "end_time": "2023-12-30T13:06:14.932048Z",
     "start_time": "2023-12-30T13:06:14.924923Z"
    }
   },
   "id": "5e889f9ca1c11a02"
  },
  {
   "cell_type": "markdown",
   "source": [
    "## Task 4: User Activity Comparison\n",
    "### Task Summary\n",
    "Identify the best 5 users with more answers than questions posted, including their reputations and locations.\n",
    "\n",
    "### Pandas Implementation"
   ],
   "metadata": {
    "collapsed": false
   },
   "id": "9fbb841711c1be2c"
  },
  {
   "cell_type": "code",
   "execution_count": 56,
   "outputs": [],
   "source": [
    "pandas_result_4 = solution_4(Posts, Users)"
   ],
   "metadata": {
    "collapsed": false,
    "ExecuteTime": {
     "end_time": "2023-12-30T13:06:15.019631Z",
     "start_time": "2023-12-30T13:06:14.931800Z"
    }
   },
   "id": "8416002844076ca9"
  },
  {
   "cell_type": "markdown",
   "source": [
    "### SQL Implementation"
   ],
   "metadata": {
    "collapsed": false
   },
   "id": "f5aaebad952188e3"
  },
  {
   "cell_type": "code",
   "execution_count": 57,
   "outputs": [],
   "source": [
    "sql_result_4 = solution_4_sql(conn)"
   ],
   "metadata": {
    "collapsed": false,
    "ExecuteTime": {
     "end_time": "2023-12-30T13:06:15.354836Z",
     "start_time": "2023-12-30T13:06:15.007726Z"
    }
   },
   "id": "67ceab8462bca9ce"
  },
  {
   "cell_type": "markdown",
   "source": [
    "### Comparison"
   ],
   "metadata": {
    "collapsed": false
   },
   "id": "51114e00f4b28ead"
  },
  {
   "cell_type": "code",
   "execution_count": 58,
   "outputs": [
    {
     "name": "stdout",
     "output_type": "stream",
     "text": [
      "Task 4 Report:\n",
      "Pandas Solution:\n",
      "   DisplayName  QuestionsNumber  AnswersNumber                   Location  \\\n",
      "0    Mark Mayo              344           1968  Christchurch, New Zealand   \n",
      "1        phoog               12           1690               New York, NY   \n",
      "2      Relaxed                8           1506                        NaN   \n",
      "3  lambshaanxy              117           1466                        NaN   \n",
      "4     Crazydre              172           1163                        NaN   \n",
      "\n",
      "   Reputation  UpVotes  DownVotes  \n",
      "0      157193    16082       1661  \n",
      "1      120317     8767        567  \n",
      "2       99185    11268        606  \n",
      "3       98555    15021        275  \n",
      "4       73180     2263        132  \n",
      "\n",
      "SQL Solution:\n",
      "   DisplayName  QuestionsNumber  AnswersNumber                   Location  \\\n",
      "0    Mark Mayo              344           1968  Christchurch, New Zealand   \n",
      "1        phoog               12           1690               New York, NY   \n",
      "2      Relaxed                8           1506                       None   \n",
      "3  lambshaanxy              117           1466                       None   \n",
      "4     Crazydre              172           1163                       None   \n",
      "\n",
      "   Reputation  UpVotes  DownVotes  \n",
      "0      157193    16082       1661  \n",
      "1      120317     8767        567  \n",
      "2       99185    11268        606  \n",
      "3       98555    15021        275  \n",
      "4       73180     2263        132  \n",
      "Task 4 Comparison: True\n"
     ]
    }
   ],
   "source": [
    "print(\"Task 4 Report:\")\n",
    "print(\"Pandas Solution:\")\n",
    "print(pandas_result_4.head())\n",
    "print(\"\\nSQL Solution:\")\n",
    "print(sql_result_4.head())\n",
    "compare_results(4, pandas_result_4, sql_result_4)"
   ],
   "metadata": {
    "collapsed": false,
    "ExecuteTime": {
     "end_time": "2023-12-30T13:06:15.374600Z",
     "start_time": "2023-12-30T13:06:15.355152Z"
    }
   },
   "id": "510338c2b6bc1b87"
  },
  {
   "cell_type": "markdown",
   "source": [
    "## Task 5: Analyzing Question and Answer Scores\n",
    "### Task Summary\n",
    "Compare the highest answer score to the accepted answer score for questions, and identify significant discrepancies.\n",
    "\n",
    "### Pandas Implementation"
   ],
   "metadata": {
    "collapsed": false
   },
   "id": "b480fc362134712e"
  },
  {
   "cell_type": "code",
   "execution_count": 59,
   "outputs": [],
   "source": [
    "pandas_result_5 = solution_5(Posts)"
   ],
   "metadata": {
    "collapsed": false,
    "ExecuteTime": {
     "end_time": "2023-12-30T13:06:15.466147Z",
     "start_time": "2023-12-30T13:06:15.372758Z"
    }
   },
   "id": "a4be0e3dcd888c50"
  },
  {
   "cell_type": "markdown",
   "source": [
    "### SQL Implementation"
   ],
   "metadata": {
    "collapsed": false
   },
   "id": "fb80808994f8c160"
  },
  {
   "cell_type": "code",
   "execution_count": 60,
   "outputs": [],
   "source": [
    "sql_result_5 = solution_5_sql(conn)"
   ],
   "metadata": {
    "collapsed": false,
    "ExecuteTime": {
     "end_time": "2023-12-30T13:06:15.872890Z",
     "start_time": "2023-12-30T13:06:15.457326Z"
    }
   },
   "id": "1bf316cd8e974f"
  },
  {
   "cell_type": "markdown",
   "source": [
    "### Comparison"
   ],
   "metadata": {
    "collapsed": false
   },
   "id": "a478a15260dfa938"
  },
  {
   "cell_type": "code",
   "execution_count": 61,
   "outputs": [
    {
     "name": "stdout",
     "output_type": "stream",
     "text": [
      "Task 5 Report:\n",
      "Pandas Solution:\n",
      "       Id                                              Title  MaxScore  \\\n",
      "0  137989               How do I minimise waste on a flight?       125   \n",
      "1  133636  What Happens when Passenger Refuses to Fly Boe...       113   \n",
      "2   99713  In Germany, what are you supposed to do if you...       133   \n",
      "3   76737  Why do many countries in the world still requi...       120   \n",
      "4   81376  What is way to eat rice with hands in front of...       125   \n",
      "\n",
      "   AcceptedScore  Difference  \n",
      "0             15         110  \n",
      "1             12         101  \n",
      "2             38          95  \n",
      "3             33          87  \n",
      "4             39          86  \n",
      "\n",
      "SQL Solution:\n",
      "       Id                                              Title  MaxScore  \\\n",
      "0  137989               How do I minimise waste on a flight?       125   \n",
      "1  133636  What Happens when Passenger Refuses to Fly Boe...       113   \n",
      "2   99713  In Germany, what are you supposed to do if you...       133   \n",
      "3   76737  Why do many countries in the world still requi...       120   \n",
      "4   81376  What is way to eat rice with hands in front of...       125   \n",
      "\n",
      "   AcceptedScore  Difference  \n",
      "0             15         110  \n",
      "1             12         101  \n",
      "2             38          95  \n",
      "3             33          87  \n",
      "4             39          86  \n",
      "Task 5 Comparison: True\n"
     ]
    }
   ],
   "source": [
    "print(\"Task 5 Report:\")\n",
    "print(\"Pandas Solution:\")\n",
    "print(pandas_result_5.head())\n",
    "print(\"\\nSQL Solution:\")\n",
    "print(sql_result_5.head())\n",
    "compare_results(5, pandas_result_5, sql_result_5)"
   ],
   "metadata": {
    "collapsed": false,
    "ExecuteTime": {
     "end_time": "2023-12-30T13:06:15.890477Z",
     "start_time": "2023-12-30T13:06:15.873156Z"
    }
   },
   "id": "d6008b4a5ef3f25d"
  },
  {
   "cell_type": "markdown",
   "source": [
    "## Conclusion\n",
    "This assignment involves data processing of a simplified dataset from Travel StackExchange using Pandas and SQL in Python.\n",
    "I performed tasks such as data loading, database creation and result comparison for various queries. \n",
    "The dataset includes Posts, Users, Comments and PostLinks. \n",
    "Solutions have been implemented in both Pandas and SQL, ensuring equivalent results. \n",
    "The final report, created in a Jupyter notebook, have done well-structured with Markdown formatting, highlighting each task and including comparisons of results."
   ],
   "metadata": {
    "collapsed": false
   },
   "id": "cc9fb12d9c0df453"
  }
 ],
 "metadata": {
  "kernelspec": {
   "display_name": "Python 3",
   "language": "python",
   "name": "python3"
  },
  "language_info": {
   "codemirror_mode": {
    "name": "ipython",
    "version": 2
   },
   "file_extension": ".py",
   "mimetype": "text/x-python",
   "name": "python",
   "nbconvert_exporter": "python",
   "pygments_lexer": "ipython2",
   "version": "2.7.6"
  }
 },
 "nbformat": 4,
 "nbformat_minor": 5
}
